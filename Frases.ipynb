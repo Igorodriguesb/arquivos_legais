{
  "nbformat": 4,
  "nbformat_minor": 0,
  "metadata": {
    "colab": {
      "provenance": [],
      "authorship_tag": "ABX9TyNJ2EQNBQEOCJlKm+MKMOxi",
      "include_colab_link": true
    },
    "kernelspec": {
      "name": "python3",
      "display_name": "Python 3"
    },
    "language_info": {
      "name": "python"
    }
  },
  "cells": [
    {
      "cell_type": "markdown",
      "metadata": {
        "id": "view-in-github",
        "colab_type": "text"
      },
      "source": [
        "<a href=\"https://colab.research.google.com/github/Igorodriguesb/arquivos_legais/blob/main/Frases.ipynb\" target=\"_parent\"><img src=\"https://colab.research.google.com/assets/colab-badge.svg\" alt=\"Open In Colab\"/></a>"
      ]
    },
    {
      "cell_type": "markdown",
      "source": [
        "### Um conjunto de dados de texto foi obtido através de uma pesquisa de satisfação de um curso online, o objetivo é avaliar as palavras mais frequentes, qual a média de notas por gênero e se existem muitos alunos que não se identificaram."
      ],
      "metadata": {
        "id": "kUhGL5DRnbcd"
      }
    },
    {
      "cell_type": "code",
      "execution_count": 5,
      "metadata": {
        "id": "6IJ325FXo4YK"
      },
      "outputs": [],
      "source": [
        "usuarios_feedback = [{'nome':'Peter','nota':9,'genero':'M','comentario':'bom demais e agil'}, {'nome':'Joao','nota':10,'genero':'M','comentario':'agil e eficiente'}, {'nome':'user_not_found','nota':0,'genero':'M','comentario':'Horrível'}, {'nome':'Marta','nota':10,'genero':'F','comentario':'muito agil bom demais'},{'nome':'Beatriz','nota':10,'genero':'F','comentario':'rápido e eficaz'},{'nome':'user_not_found','nota':2,'genero':'M','comentario':'ruim'}, {'nome':'Jéssica','nota':10,'genero':'F','comentario':'agil'}, {'nome':'José','nota':7,'genero':'M','comentario':'ok'}, {'nome':'Elias','nota':5,'genero':'M','comentario':'precisa melhorar'}, {'nome':'Miriã','nota':9,'genero':'F','comentario':'foi muito agil e rápido'}, {'nome':'Maria','nota':10,'genero':'F','comentario':'muito bom e agil'}]"
      ]
    },
    {
      "cell_type": "markdown",
      "source": [
        "## Função para identificar a frequência das palavras"
      ],
      "metadata": {
        "id": "bMQOPatueUOY"
      }
    },
    {
      "cell_type": "code",
      "source": [
        "def conta_frequencia(x):\n",
        "  todas_palavras = []\n",
        "  for user in x:\n",
        "    todas_palavras.extend(user[\"comentario\"].split())\n",
        "    uniqwords = sorted(set(todas_palavras))\n",
        "  for word in uniqwords:\n",
        "    if word != \"e\" and word != \"foi\" and word != \"precisa\":   #podemos retirar as palavras que não fazem sentido através da função if\n",
        "      print(todas_palavras.count(word),word)\n",
        "\n",
        "conta_frequencia(usuarios_feedback)"
      ],
      "metadata": {
        "colab": {
          "base_uri": "https://localhost:8080/"
        },
        "id": "zrQEPdhiZNb_",
        "outputId": "b391bc74-00e2-43c9-b540-617be975ecb4"
      },
      "execution_count": 21,
      "outputs": [
        {
          "output_type": "stream",
          "name": "stdout",
          "text": [
            "1 Horrível\n",
            "6 agil\n",
            "3 bom\n",
            "2 demais\n",
            "1 eficaz\n",
            "1 eficiente\n",
            "1 melhorar\n",
            "3 muito\n",
            "1 ok\n",
            "1 ruim\n",
            "2 rápido\n"
          ]
        }
      ]
    },
    {
      "cell_type": "markdown",
      "source": [
        "## Qual a diferênça das notas por gênero?\n",
        "\n"
      ],
      "metadata": {
        "id": "8udXD-Eiep8w"
      }
    },
    {
      "cell_type": "code",
      "source": [
        "def notas(x):\n",
        "  m = []\n",
        "  f = []\n",
        "  for a in x:\n",
        "    if a[\"genero\"] == \"M\":\n",
        "      m.append(a[\"nota\"])\n",
        "    elif a[\"genero\"] == \"F\":\n",
        "      f.append(a[\"nota\"])\n",
        "  print(\"Média de nota masc =\", sum(m)/len(m), \"Média de nota fem =\", sum(f)/len(f))\n",
        "  return m,f\n",
        "\n",
        "\n",
        "masc, fem = notas(usuarios_feedback)\n",
        "print(masc, fem)"
      ],
      "metadata": {
        "colab": {
          "base_uri": "https://localhost:8080/"
        },
        "id": "pYo4ZCX3ZNH4",
        "outputId": "074b4c98-ca16-455a-8bf8-01033fa7038f"
      },
      "execution_count": 24,
      "outputs": [
        {
          "output_type": "stream",
          "name": "stdout",
          "text": [
            "Média de nota masc = 5.5 Média de nota fem = 9.8\n",
            "[9, 10, 0, 2, 7, 5] [10, 10, 10, 9, 10]\n"
          ]
        }
      ]
    },
    {
      "cell_type": "markdown",
      "source": [
        "## Quantos user_null tem?"
      ],
      "metadata": {
        "id": "1ogzBXLjlhaL"
      }
    },
    {
      "cell_type": "code",
      "source": [
        "user_null=[]\n",
        "for a in usuarios_feedback:\n",
        "  if a[\"nome\"]==\"user_not_found\":\n",
        "    print(a)\n",
        "    user_null.append(a)\n",
        "print(len(user_null))\n"
      ],
      "metadata": {
        "colab": {
          "base_uri": "https://localhost:8080/"
        },
        "id": "_SdfRpzjlh_h",
        "outputId": "9ee868b7-f83e-4ac3-d13c-ac1aa17e4c4c"
      },
      "execution_count": 30,
      "outputs": [
        {
          "output_type": "stream",
          "name": "stdout",
          "text": [
            "{'nome': 'user_not_found', 'nota': 0, 'genero': 'M', 'comentario': 'Horrível'}\n",
            "{'nome': 'user_not_found', 'nota': 2, 'genero': 'M', 'comentario': 'ruim'}\n",
            "2\n"
          ]
        }
      ]
    }
  ]
}
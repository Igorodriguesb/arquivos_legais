{
  "nbformat": 4,
  "nbformat_minor": 0,
  "metadata": {
    "colab": {
      "provenance": [],
      "authorship_tag": "ABX9TyOtqIaVPmUFROLyI+cOzuNi",
      "include_colab_link": true
    },
    "kernelspec": {
      "name": "python3",
      "display_name": "Python 3"
    },
    "language_info": {
      "name": "python"
    }
  },
  "cells": [
    {
      "cell_type": "markdown",
      "metadata": {
        "id": "view-in-github",
        "colab_type": "text"
      },
      "source": [
        "<a href=\"https://colab.research.google.com/github/Igorodriguesb/arquivos_legais/blob/main/Fun%C3%A7%C3%B5es_python.ipynb\" target=\"_parent\"><img src=\"https://colab.research.google.com/assets/colab-badge.svg\" alt=\"Open In Colab\"/></a>"
      ]
    },
    {
      "cell_type": "markdown",
      "source": [
        "### Relembrando funções Python"
      ],
      "metadata": {
        "id": "rPu0oWBlRzRB"
      }
    },
    {
      "cell_type": "markdown",
      "source": [
        "Todos os terrenos dessa empresa são retangulares e você pode utilizar a fórmula abaixo: a = b. h (área = largura * altura) Utilize as listas abaixo:\n",
        "\n",
        "area = [200,'null',720,1500,1000,275,'null',1200,2400,'null']\n",
        "\n",
        "altura = ['null',30,40,30,10,25,33,'null',12,20]\n",
        "\n",
        "largura = [20,20,'null',50,100,'null',30,100,200,10]"
      ],
      "metadata": {
        "id": "7xWigLtgSNkY"
      }
    },
    {
      "cell_type": "code",
      "execution_count": 30,
      "metadata": {
        "colab": {
          "base_uri": "https://localhost:8080/"
        },
        "id": "uXCtYwY2Ryp9",
        "outputId": "d57e1046-6b18-497e-8d75-b6c04f27ae8c"
      },
      "outputs": [
        {
          "output_type": "stream",
          "name": "stdout",
          "text": [
            "10 10 10\n"
          ]
        }
      ],
      "source": [
        "area = [200,'null',720,1500,1000,275,'null',1200,2400,'null']\n",
        "largura = [20,20,'null',50,100,'null',30,100,200,10]\n",
        "altura = ['null',30,40,30,10,25,33,'null',12,20]\n",
        "\n",
        "\n",
        "print(len(area), len(largura), )"
      ]
    },
    {
      "cell_type": "markdown",
      "source": [
        "### Como todas possuem o mesm tamanho, podemos usar uma função que corresponde a fórmula \"a = b. h\" para descobrir os valores nulos."
      ],
      "metadata": {
        "id": "lY92k814TR7r"
      }
    },
    {
      "cell_type": "code",
      "source": [
        "def preenche(a,b,h):\n",
        "  area_full = []\n",
        "  largura_full = []\n",
        "  altura_full = []\n",
        "  for area,largura,altura in zip(a,b,h):\n",
        "    if type(area)!=int:\n",
        "      area_full.append(int(largura*altura))\n",
        "    else:\n",
        "      area_full.append(int(area))\n",
        "    if type(largura)!=int:\n",
        "      largura_full.append(int(area/altura))\n",
        "    else:\n",
        "      largura_full.append(int(largura))\n",
        "    if type(altura)!=int:\n",
        "      altura_full.append(int(area/largura))\n",
        "    else:\n",
        "      altura_full.append(int(altura))\n",
        "  return (area_full,largura_full, altura_full)\n",
        "\n",
        "\n",
        "\n",
        "(area, largura, altura) = preenche(area, largura, altura)\n",
        "print(area)\n",
        "print(largura)\n",
        "print(altura)\n",
        "\n"
      ],
      "metadata": {
        "colab": {
          "base_uri": "https://localhost:8080/"
        },
        "id": "LycYrCbOZjzG",
        "outputId": "ffb9c2af-c31a-481f-b98f-547ecfac108f"
      },
      "execution_count": 32,
      "outputs": [
        {
          "output_type": "stream",
          "name": "stdout",
          "text": [
            "[200, 600, 720, 1500, 1000, 275, 990, 1200, 2400, 200]\n",
            "[20, 20, 18, 50, 100, 11, 30, 100, 200, 10]\n",
            "[10, 30, 40, 30, 10, 25, 33, 12, 12, 20]\n"
          ]
        }
      ]
    },
    {
      "cell_type": "markdown",
      "source": [
        "## Geralmente os terrenos tem mais altura ou largura?"
      ],
      "metadata": {
        "id": "J1PdVo5ed7ZZ"
      }
    },
    {
      "cell_type": "code",
      "source": [
        "print('A média da altura dos terrenos é de',sum(altura)/len(altura),'m2')\n",
        "print('A média da largura dos terrenos é de',sum(largura)/len(largura), 'm2')"
      ],
      "metadata": {
        "colab": {
          "base_uri": "https://localhost:8080/"
        },
        "id": "UwJGKYy8d8La",
        "outputId": "5dfb70b6-3019-4af8-81b4-4314bedb4cc6"
      },
      "execution_count": 39,
      "outputs": [
        {
          "output_type": "stream",
          "name": "stdout",
          "text": [
            "A média da altura dos terrenos é de 22.2 m2\n",
            "A média da largura dos terrenos é de 55.9 m2\n"
          ]
        }
      ]
    },
    {
      "cell_type": "markdown",
      "source": [
        "## Quantos metros a empresa tem no total e qual é a média do tamanho dos terrenos?"
      ],
      "metadata": {
        "id": "hOQhdI4td8hB"
      }
    },
    {
      "cell_type": "code",
      "source": [
        "print('Metragem total:', sum(area), 'M2')\n",
        "print('Média dos terrenos:', sum(area)/len(area), 'M2')"
      ],
      "metadata": {
        "colab": {
          "base_uri": "https://localhost:8080/"
        },
        "id": "B-pTTbuwd85Z",
        "outputId": "72f1a075-02c1-407e-fa2e-92ce7f90b612"
      },
      "execution_count": 49,
      "outputs": [
        {
          "output_type": "stream",
          "name": "stdout",
          "text": [
            "Metragem total: 9085 M2\n",
            "Média dos terrenos: 908.5 M2\n"
          ]
        }
      ]
    }
  ]
}
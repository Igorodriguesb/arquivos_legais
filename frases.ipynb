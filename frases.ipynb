{
  "nbformat": 4,
  "nbformat_minor": 0,
  "metadata": {
    "colab": {
      "provenance": [],
      "authorship_tag": "ABX9TyPHTpTDsbg+8FwmQGoJ23sn",
      "include_colab_link": true
    },
    "kernelspec": {
      "name": "python3",
      "display_name": "Python 3"
    },
    "language_info": {
      "name": "python"
    }
  },
  "cells": [
    {
      "cell_type": "markdown",
      "metadata": {
        "id": "view-in-github",
        "colab_type": "text"
      },
      "source": [
        "<a href=\"https://colab.research.google.com/github/Igorodriguesb/arquivos_legais/blob/main/frases.ipynb\" target=\"_parent\"><img src=\"https://colab.research.google.com/assets/colab-badge.svg\" alt=\"Open In Colab\"/></a>"
      ]
    },
    {
      "cell_type": "code",
      "execution_count": null,
      "metadata": {
        "id": "6IJ325FXo4YK"
      },
      "outputs": [],
      "source": [
        "usuarios_feedback = [{'nome':'Peter','nota':9,'genero':'M','comentario':'bom demais e agil'}, 
{'nome':'Joao','nota':10,'genero':'M','comentario':'agil e eficiente'}, 
{'nome':'user_not_found','nota':0,'genero':'M','comentario':'Horrível'}, 
{'nome':'Marta','nota':10,'genero':'F','comentario':'muito agil bom demais'}, 
{'nome':'Beatriz','nota':10,'genero':'F','comentario':'rápido e eficaz'}, 
{'nome':'user_not_found','nota':2,'genero':'M','comentario':'ruim'}, 
{'nome':'Jéssica','nota':10,'genero':'F','comentario':'agil'}, 
{'nome':'José','nota':7,'genero':'M','comentario':'ok'}, 
{'nome':'Elias','nota':5,'genero':'M','comentario':'precisa melhorar'}, 
{'nome':'Miriã','nota':9,'genero':'F','comentario':'foi muito agil e rápido'}, 
{'nome':'Maria','nota':10,'genero':'F','comentario':'muito bom e agil'}]"
      ]
    }
  ]
}

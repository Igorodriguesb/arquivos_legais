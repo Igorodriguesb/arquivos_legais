{
  "nbformat": 4,
  "nbformat_minor": 0,
  "metadata": {
    "colab": {
      "provenance": [],
      "authorship_tag": "ABX9TyMmYCiIIB8deP/5b/0LTMH0",
      "include_colab_link": true
    },
    "kernelspec": {
      "name": "python3",
      "display_name": "Python 3"
    },
    "language_info": {
      "name": "python"
    }
  },
  "cells": [
    {
      "cell_type": "markdown",
      "metadata": {
        "id": "view-in-github",
        "colab_type": "text"
      },
      "source": [
        "<a href=\"https://colab.research.google.com/github/Igorodriguesb/arquivos_legais/blob/main/Budget.ipynb\" target=\"_parent\"><img src=\"https://colab.research.google.com/assets/colab-badge.svg\" alt=\"Open In Colab\"/></a>"
      ]
    },
    {
      "cell_type": "markdown",
      "source": [
        "### Sua empresa te passou uma lista com requisições de treinamentos (muitos repetidos), você tem que definir o cenário que melhor atenda os pedidos, o budget é de 150 moedas e você tem um dicionário que contém o nome dos treinamentos"
      ],
      "metadata": {
        "id": "qsZCRzBIpRuC"
      }
    },
    {
      "cell_type": "code",
      "execution_count": 1,
      "metadata": {
        "id": "m5RzWTXipMy-"
      },
      "outputs": [],
      "source": [
        "treinamentos = [{'treinamento':'Scrum','moedas':30}, {'treinamento':'Data Science','moedas':40}, {'treinamento':'Gestão de Projetos','moedas':50}, {'treinamento':'Marketing','moedas':30}, {'treinamento':'Cloud','moedas':20}, {'treinamento':'Blockchain','moedas':10}, {'treinamento':'Python','moedas':30}]\n",
        "\n",
        "pedidos = ['Scrum','Data Science','Gestão de Projetos','Marketing','Cloud','Python','Python','Python', 'Scrum','Data Science','Gestão de Projetos','Marketing','Data Science','Gestão de Projetos', 'Python','Marketing','Data Science','Gestão de Projetos','Data Science','Gestão de Projetos','Data Science']"
      ]
    },
    {
      "cell_type": "markdown",
      "source": [],
      "metadata": {
        "id": "fSXmgy6XpSei"
      }
    },
    {
      "cell_type": "code",
      "source": [
        "def get_value (x,b):\n",
        "  for a in x:\n",
        "    if a['treinamento'] in b:\n",
        "      print('valor:', a['moedas'])\n",
        "      return a['moedas']\n",
        "\n",
        "ped = sorted(set(pedidos))\n",
        "for a in ped:\n",
        "  print('solicitações:', pedidos.count(a), '\\ntreinamento:', a)\n",
        "  for b in treinamentos:\n",
        "    if a==b['treinamento']:\n",
        "      b['total_pedidos']=pedidos.count(a)\n"
      ],
      "metadata": {
        "colab": {
          "base_uri": "https://localhost:8080/"
        },
        "id": "UM5yNkxeR4-r",
        "outputId": "f65459ac-9d52-4546-ed2a-33ce378a8663"
      },
      "execution_count": 3,
      "outputs": [
        {
          "output_type": "stream",
          "name": "stdout",
          "text": [
            "solicitações: 1 \n",
            "treinamento: Cloud\n",
            "solicitações: 6 \n",
            "treinamento: Data Science\n",
            "solicitações: 5 \n",
            "treinamento: Gestão de Projetos\n",
            "solicitações: 3 \n",
            "treinamento: Marketing\n",
            "solicitações: 4 \n",
            "treinamento: Python\n",
            "solicitações: 2 \n",
            "treinamento: Scrum\n"
          ]
        }
      ]
    }
  ]
}
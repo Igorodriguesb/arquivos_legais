{
  "nbformat": 4,
  "nbformat_minor": 0,
  "metadata": {
    "colab": {
      "provenance": [],
      "authorship_tag": "ABX9TyMiRoHNy5gfmL774LKPSUzd",
      "include_colab_link": true
    },
    "kernelspec": {
      "name": "python3",
      "display_name": "Python 3"
    },
    "language_info": {
      "name": "python"
    }
  },
  "cells": [
    {
      "cell_type": "markdown",
      "metadata": {
        "id": "view-in-github",
        "colab_type": "text"
      },
      "source": [
        "<a href=\"https://colab.research.google.com/github/Igorodriguesb/arquivos_legais/blob/main/Budget.ipynb\" target=\"_parent\"><img src=\"https://colab.research.google.com/assets/colab-badge.svg\" alt=\"Open In Colab\"/></a>"
      ]
    },
    {
      "cell_type": "markdown",
      "source": [
        "### Sua empresa te passou uma lista com requisições de treinamentos (muitos repetidos), você tem que definir o cenário que melhor atenda os pedidos, o budget é de 150 moedas e você tem um dicionário que contém o nome dos treinamentos"
      ],
      "metadata": {
        "id": "qsZCRzBIpRuC"
      }
    },
    {
      "cell_type": "code",
      "execution_count": null,
      "metadata": {
        "id": "m5RzWTXipMy-"
      },
      "outputs": [],
      "source": [
        "treinamentos = [{'treinamento':'Scrum','moedas':30}, {'treinamento':'Data Science','moedas':40}, {'treinamento':'Gestão de Projetos','moedas':50}, {'treinamento':'Marketing','moedas':30}, {'treinamento':'Cloud','moedas':20}, {'treinamento':'Blockchain','moedas':10}, {'treinamento':'Python','moedas':30}]\n",
        "\n",
        "pedidos = ['Scrum','Data Science','Gestão de Projetos','Marketing','Cloud','Python','Python','Python', 'Scrum','Data Science','Gestão de Projetos','Marketing','Data Science','Gestão de Projetos', 'Python','Marketing','Data Science','Gestão de Projetos','Data Science','Gestão de Projetos','Data Science']"
      ]
    },
    {
      "cell_type": "markdown",
      "source": [],
      "metadata": {
        "id": "fSXmgy6XpSei"
      }
    },
    {
      "cell_type": "code",
      "source": [
        "def get_value (x,b):\n",
        "  for a in x:\n",
        "    if a['treinamento'] in b:\n",
        "      print('valor:', a['moedas'])\n",
        "      return a['moedas']\n",
        "\n",
        "ped = sorted(set(pedidos))\n",
        "for a in ped:\n",
        "  print('solicitações:', pedidos.count(a), '\\ntreinamento:', a)\n",
        "  valor = get_value(treinamentos,a)\n",
        "  for b in treinamentos:\n",
        "    if a==b['treinamento']:\n",
        "      b['total_pedidos']=pedidos.count(a)\n"
      ],
      "metadata": {
        "colab": {
          "base_uri": "https://localhost:8080/"
        },
        "id": "UM5yNkxeR4-r",
        "outputId": "aa936783-8893-4a68-eeca-ec32b8840058"
      },
      "execution_count": null,
      "outputs": [
        {
          "output_type": "stream",
          "name": "stdout",
          "text": [
            "solicitações: 1 \n",
            "treinamento: Cloud\n",
            "valor: 20\n",
            "solicitações: 6 \n",
            "treinamento: Data Science\n",
            "valor: 40\n",
            "solicitações: 5 \n",
            "treinamento: Gestão de Projetos\n",
            "valor: 50\n",
            "solicitações: 3 \n",
            "treinamento: Marketing\n",
            "valor: 30\n",
            "solicitações: 4 \n",
            "treinamento: Python\n",
            "valor: 30\n",
            "solicitações: 2 \n",
            "treinamento: Scrum\n",
            "valor: 30\n"
          ]
        }
      ]
    },
    {
      "cell_type": "code",
      "source": [
        "treinamentos"
      ],
      "metadata": {
        "colab": {
          "base_uri": "https://localhost:8080/"
        },
        "id": "WYXEP28ygnBV",
        "outputId": "1969e226-c7a5-4ae0-a441-f2f61df45f50"
      },
      "execution_count": null,
      "outputs": [
        {
          "output_type": "execute_result",
          "data": {
            "text/plain": [
              "[{'treinamento': 'Scrum', 'moedas': 30, 'total_pedidos': 2},\n",
              " {'treinamento': 'Data Science', 'moedas': 40, 'total_pedidos': 6},\n",
              " {'treinamento': 'Gestão de Projetos', 'moedas': 50, 'total_pedidos': 5},\n",
              " {'treinamento': 'Marketing', 'moedas': 30, 'total_pedidos': 3},\n",
              " {'treinamento': 'Cloud', 'moedas': 20, 'total_pedidos': 1},\n",
              " {'treinamento': 'Blockchain', 'moedas': 10},\n",
              " {'treinamento': 'Python', 'moedas': 30, 'total_pedidos': 4}]"
            ]
          },
          "metadata": {},
          "execution_count": 5
        }
      ]
    },
    {
      "cell_type": "markdown",
      "source": [
        "### Estratégia para atender o maior número de pedidos"
      ],
      "metadata": {
        "id": "jWwQgTj-gzO9"
      }
    },
    {
      "cell_type": "code",
      "source": [
        "budget = 150\n",
        "count = 6\n",
        "total = []\n",
        "\n",
        "while budget >0:\n",
        "  for a in treinamentos:\n",
        "    qtd = a.get('total_pedidos', 0)\n",
        "    if qtd == count:\n",
        "      print('Treinamento', a['treinamento'],'comprado.')\n",
        "      total.append(qtd)\n",
        "      budget = budget - a['moedas']\n",
        "      count = count - 1\n",
        "    else:\n",
        "      continue\n",
        "print('Total de pedidos atendidos', sum(total), 'representando', 100*(sum(total)/len(pedidos)),'% de atendimento','\\nbudget no caixa', budget)"
      ],
      "metadata": {
        "colab": {
          "base_uri": "https://localhost:8080/"
        },
        "id": "ST3vcy5cgmkk",
        "outputId": "e64b91ef-f4b0-44de-cccd-85a61e5b8370"
      },
      "execution_count": null,
      "outputs": [
        {
          "output_type": "stream",
          "name": "stdout",
          "text": [
            "Treinamento Data Science comprado.\n",
            "Treinamento Gestão de Projetos comprado.\n",
            "Treinamento Python comprado.\n",
            "Treinamento Marketing comprado.\n",
            "Total de pedidos atendidos 18 representando 85.71428571428571 % de atendimento \n",
            "budget no caixa 0\n"
          ]
        }
      ]
    }
  ]
}
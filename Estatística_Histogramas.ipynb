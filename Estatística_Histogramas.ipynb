{
  "nbformat": 4,
  "nbformat_minor": 5,
  "metadata": {
    "kernelspec": {
      "display_name": "Python 3",
      "language": "python",
      "name": "python3"
    },
    "language_info": {
      "codemirror_mode": {
        "name": "ipython",
        "version": 3
      },
      "file_extension": ".py",
      "mimetype": "text/x-python",
      "name": "python",
      "nbconvert_exporter": "python",
      "pygments_lexer": "ipython3",
      "version": "3.8.10"
    },
    "colab": {
      "provenance": [],
      "include_colab_link": true
    }
  },
  "cells": [
    {
      "cell_type": "markdown",
      "metadata": {
        "id": "view-in-github",
        "colab_type": "text"
      },
      "source": [
        "<a href=\"https://colab.research.google.com/github/Igorodriguesb/arquivos_legais/blob/main/Estat%C3%ADstica_Histogramas.ipynb\" target=\"_parent\"><img src=\"https://colab.research.google.com/assets/colab-badge.svg\" alt=\"Open In Colab\"/></a>"
      ]
    },
    {
      "cell_type": "markdown",
      "metadata": {
        "id": "3e62324a-36a8-405f-94a1-78d25362fdd7"
      },
      "source": [
        "# EXEMPLOS DE ESTATÍSTIVA BÁSICA"
      ],
      "id": "3e62324a-36a8-405f-94a1-78d25362fdd7"
    },
    {
      "cell_type": "markdown",
      "metadata": {
        "id": "484481cb-12f9-40f5-adf4-b47f99a76ed6"
      },
      "source": [
        "# 1 CARREGAMENTO DAS BIBLIOTECAS"
      ],
      "id": "484481cb-12f9-40f5-adf4-b47f99a76ed6"
    },
    {
      "cell_type": "code",
      "metadata": {
        "id": "2be594f4-6e49-4da2-9dd4-660ac172bdfa"
      },
      "source": [
        "import pandas as pd\n",
        "import numpy as np\n",
        "import matplotlib.pyplot as plt\n",
        "import seaborn as sns\n",
        "import scipy.stats as stats\n",
        "#%matplotlib widget"
      ],
      "id": "2be594f4-6e49-4da2-9dd4-660ac172bdfa",
      "execution_count": null,
      "outputs": []
    },
    {
      "cell_type": "markdown",
      "metadata": {
        "tags": [],
        "id": "92c81ed2-36b8-4ce1-a4eb-f2cbd514a0fd"
      },
      "source": [
        "# 2 GERAÇÃO DOS DADOS"
      ],
      "id": "92c81ed2-36b8-4ce1-a4eb-f2cbd514a0fd"
    },
    {
      "cell_type": "code",
      "metadata": {
        "id": "8171cdd5-fb12-46f1-b7c0-c60abb46d733",
        "outputId": "d0093499-e209-4fb2-da96-6286de7c418c",
        "colab": {
          "base_uri": "https://localhost:8080/"
        }
      },
      "source": [
        "s1 = pd.Series([7, 7, 6, 2,\t5, 4, 3, 7,\t3, 1, 2, 4, 8, 6, 3, 7, 9, 6, 1, 3])\n",
        "pd.DataFrame.head(s1)"
      ],
      "id": "8171cdd5-fb12-46f1-b7c0-c60abb46d733",
      "execution_count": null,
      "outputs": [
        {
          "output_type": "execute_result",
          "data": {
            "text/plain": [
              "0    7\n",
              "1    7\n",
              "2    6\n",
              "3    2\n",
              "4    5\n",
              "dtype: int64"
            ]
          },
          "metadata": {},
          "execution_count": 3
        }
      ]
    },
    {
      "cell_type": "code",
      "metadata": {
        "id": "37b4bd8a-a325-47ce-8bfa-d4ccacfd85c9",
        "outputId": "859144d0-d0c2-42f1-85e0-55021f83c80b",
        "colab": {
          "base_uri": "https://localhost:8080/"
        }
      },
      "source": [
        "s2 = pd.Series([3, 3, 5, 12, 3, 4, 10, 5, 4, 4, 3, 4, 8, 4, 5, 5, 6, 6, 4, 7])\n",
        "pd.DataFrame.head(s2)"
      ],
      "id": "37b4bd8a-a325-47ce-8bfa-d4ccacfd85c9",
      "execution_count": null,
      "outputs": [
        {
          "output_type": "execute_result",
          "data": {
            "text/plain": [
              "0     3\n",
              "1     3\n",
              "2     5\n",
              "3    12\n",
              "4     3\n",
              "dtype: int64"
            ]
          },
          "metadata": {},
          "execution_count": 4
        }
      ]
    },
    {
      "cell_type": "code",
      "metadata": {
        "id": "341af8c0-4edc-4f37-8b64-2852609d5fb0",
        "outputId": "c872c18e-26df-429c-f37a-18ce84f5b0e5",
        "colab": {
          "base_uri": "https://localhost:8080/"
        }
      },
      "source": [
        "s3 = pd.Series([7, 7, 7, 8, 8, 7, 7, 7, 4, 8, 7, 8, 8, 9, 8, 8, 7, 9, 8, 8])\n",
        "pd.DataFrame.head(s3)"
      ],
      "id": "341af8c0-4edc-4f37-8b64-2852609d5fb0",
      "execution_count": null,
      "outputs": [
        {
          "output_type": "execute_result",
          "data": {
            "text/plain": [
              "0    7\n",
              "1    7\n",
              "2    7\n",
              "3    8\n",
              "4    8\n",
              "dtype: int64"
            ]
          },
          "metadata": {},
          "execution_count": 5
        }
      ]
    },
    {
      "cell_type": "code",
      "source": [
        "#ou da forma completa\n",
        "s4 = pd.Series([1,2,3,4,5,6,7,8,9,1,2,3,4,5,6,7,8,9,1,2,3,4,5,6,7,8,9])\n",
        "s4.head()"
      ],
      "metadata": {
        "colab": {
          "base_uri": "https://localhost:8080/"
        },
        "id": "-exnIlu6-EZ-",
        "outputId": "6d4167b3-6296-493a-f164-bb80e36a3cb0"
      },
      "id": "-exnIlu6-EZ-",
      "execution_count": null,
      "outputs": [
        {
          "output_type": "execute_result",
          "data": {
            "text/plain": [
              "0    1\n",
              "1    2\n",
              "2    3\n",
              "3    4\n",
              "4    5\n",
              "dtype: int64"
            ]
          },
          "metadata": {},
          "execution_count": 24
        }
      ]
    },
    {
      "cell_type": "markdown",
      "metadata": {
        "id": "7f401ab9-48e8-418a-a4d3-aaa5ac064ec5"
      },
      "source": [
        "# 3 ANÁLISE GRÁFICA DESCRITIVA 01"
      ],
      "id": "7f401ab9-48e8-418a-a4d3-aaa5ac064ec5"
    },
    {
      "cell_type": "markdown",
      "metadata": {
        "id": "c855d56a-1f7c-48da-a305-001dfb0755f8"
      },
      "source": [
        "## 3.1 Gráfico de histograma"
      ],
      "id": "c855d56a-1f7c-48da-a305-001dfb0755f8"
    },
    {
      "cell_type": "code",
      "metadata": {
        "id": "23683e3e-9204-4b1b-8995-2d7406145ece",
        "colab": {
          "base_uri": "https://localhost:8080/",
          "height": 295
        },
        "outputId": "0b962ac6-5339-48f2-a94f-25c6f7e290c4"
      },
      "source": [
        "# Cria uma imagem vazia\n",
        "fig = plt.figure()\n",
        "\n",
        "# Plota o histograma\n",
        "plt.hist(s1, bins = 8)\n",
        "\n",
        "# Coloca título nos eixos\n",
        "plt.title(\"Distribuição da variável S1\")\n",
        "\n",
        "# Coloca nome nos eixos\n",
        "plt.xlabel('s1')\n",
        "plt.ylabel('Frequência')\n",
        "plt.show()"
      ],
      "id": "23683e3e-9204-4b1b-8995-2d7406145ece",
      "execution_count": null,
      "outputs": [
        {
          "output_type": "display_data",
          "data": {
            "text/plain": [
              "<Figure size 432x288 with 1 Axes>"
            ],
            "image/png": "[encoded data removed]"
          },
          "metadata": {
            "needs_background": "light"
          }
        }
      ]
    },
    {
      "cell_type": "markdown",
      "metadata": {
        "id": "c113a42e-0c19-4644-acbf-f02741735133"
      },
      "source": [
        "### Múltiplos gráficos"
      ],
      "id": "c113a42e-0c19-4644-acbf-f02741735133"
    },
    {
      "cell_type": "code",
      "metadata": {
        "id": "b75bfa2f-1620-4f58-b71e-7f9b75b2755c",
        "colab": {
          "base_uri": "https://localhost:8080/",
          "height": 316
        },
        "outputId": "90a2854b-09d0-4e4a-a975-0a154b6f6cc2"
      },
      "source": [
        "# Cria a figura e os subplots\n",
        "fig = plt.figure()\n",
        "plt.subplots_adjust(hspace = 0.5, wspace = 0.5)\n",
        "fig.suptitle('Comparação de distribuições', x=0.1, y=.95, horizontalalignment = 'center', verticalalignment = 'top')\n",
        "ax1 = fig.add_subplot(2, 2, 1)\n",
        "ax2 = fig.add_subplot(2, 2, 2)\n",
        "ax3 = fig.add_subplot(2, 2, 3)\n",
        "ax4 = fig.add_subplot(2, 2, 4)\n",
        "\n",
        "# Cria os gráficos de histograma e acerta os nomes dos eixos\n",
        "ax1.hist(s1, bins = 5)\n",
        "ax1.set_xlabel('s1')\n",
        "ax1.set_ylabel('Frequência')\n",
        "\n",
        "ax2.hist(s2, bins = 5)\n",
        "ax2.set_xlabel('s2')\n",
        "ax2.set_ylabel('Frequência')\n",
        "\n",
        "ax3.hist(s3, bins = 5)\n",
        "ax3.set_xlabel('s3')\n",
        "ax3.set_ylabel('Frequência')\n",
        "\n",
        "ax4.hist(s4, bins = 5)\n",
        "ax4.set_xlabel('s4')\n",
        "ax4.set_ylabel('Frequência')"
      ],
      "id": "b75bfa2f-1620-4f58-b71e-7f9b75b2755c",
      "execution_count": null,
      "outputs": [
        {
          "output_type": "execute_result",
          "data": {
            "text/plain": [
              "Text(0, 0.5, 'Frequência')"
            ]
          },
          "metadata": {},
          "execution_count": 29
        },
        {
          "output_type": "display_data",
          "data": {
            "text/plain": [
              "<Figure size 432x288 with 4 Axes>"
            ],
            "image/png": "[encoded data removed]"
          },
          "metadata": {
            "needs_background": "light"
          }
        }
      ]
    },
    {
      "cell_type": "markdown",
      "metadata": {
        "id": "36b3d789-bae6-42fa-9d86-2594a6bfd36a"
      },
      "source": [
        "### Histogramas superpostos"
      ],
      "id": "36b3d789-bae6-42fa-9d86-2594a6bfd36a"
    },
    {
      "cell_type": "code",
      "metadata": {
        "id": "0b135320-6841-49ec-9a55-af344d097790",
        "colab": {
          "base_uri": "https://localhost:8080/",
          "height": 281
        },
        "outputId": "e538fdff-54df-4b59-c9fe-7dab4cd72bb1"
      },
      "source": [
        "fig = plt.figure()\n",
        "plt.hist(s1, alpha = 0.5, label = 's1', bins=5)\n",
        "plt.hist(s2, alpha = 0.5, label = 's2', bins=5)\n",
        "plt.hist(s3, alpha = 0.5, label = 's3', bins=5)\n",
        "# Código alternativo\n",
        "# plt.hist([s1, s2, s3], bins, label=['s1', 's2', 's3'])\n",
        "\n",
        "plt.legend(loc = 'upper right')\n",
        "plt.ylabel('Frequência')\n",
        "plt.title('Comparação entre variáveis')\n",
        "# plt.title('Comparação entre variáveis', loc = 'left') assim pode mudar o local do titulo.\n",
        "plt.show()"
      ],
      "id": "0b135320-6841-49ec-9a55-af344d097790",
      "execution_count": null,
      "outputs": [
        {
          "output_type": "display_data",
          "data": {
            "text/plain": [
              "<Figure size 432x288 with 1 Axes>"
            ],
            "image/png": "[encoded data removed]"
          },
          "metadata": {
            "needs_background": "light"
          }
        }
      ]
    },
    {
      "cell_type": "code",
      "source": [],
      "metadata": {
        "id": "E2J0jkFKB_1K"
      },
      "id": "E2J0jkFKB_1K",
      "execution_count": null,
      "outputs": []
    }
  ]
}